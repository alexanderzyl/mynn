{
 "cells": [
  {
   "cell_type": "code",
   "execution_count": 1,
   "id": "ab214e5f",
   "metadata": {},
   "outputs": [],
   "source": [
    "%load_ext autoreload\n",
    "%autoreload 2"
   ]
  },
  {
   "cell_type": "code",
   "execution_count": 2,
   "id": "6ef4b10b",
   "metadata": {
    "scrolled": false
   },
   "outputs": [
    {
     "name": "stdout",
     "output_type": "stream",
     "text": [
      "continuing from previous epoch - 150\n",
      "loading from version 1.8.7\n"
     ]
    }
   ],
   "source": [
    "from generate_pytorch import init_model\n",
    "model = init_model()"
   ]
  },
  {
   "cell_type": "code",
   "execution_count": 3,
   "id": "f4967584",
   "metadata": {},
   "outputs": [],
   "source": [
    "from evaluate_pytorch import ImageGenerator"
   ]
  },
  {
   "cell_type": "code",
   "execution_count": 4,
   "id": "dcadd5a0",
   "metadata": {},
   "outputs": [],
   "source": [
    "ig = ImageGenerator(model, num_image_tiles=1, trunc_psi=0.6)"
   ]
  },
  {
   "cell_type": "code",
   "execution_count": 5,
   "id": "02fcceeb",
   "metadata": {},
   "outputs": [],
   "source": [
    "latents = ig.gen_latents()\n",
    "gen_noise = ig.gen_noise()\n",
    "\n",
    "w_styles = ig.map_styles(ig.model.GAN.S, latents)"
   ]
  },
  {
   "cell_type": "code",
   "execution_count": 6,
   "id": "e88190a6",
   "metadata": {},
   "outputs": [
    {
     "name": "stderr",
     "output_type": "stream",
     "text": [
      "[W NNPACK.cpp:79] Could not initialize NNPACK! Reason: Unsupported hardware.\n"
     ]
    }
   ],
   "source": [
    "a = ig.generate_regular(w_styles, gen_noise)"
   ]
  },
  {
   "cell_type": "code",
   "execution_count": 7,
   "id": "baa99d20",
   "metadata": {},
   "outputs": [],
   "source": [
    "import numpy as np\n",
    "# Factorize semantics from weight.\n",
    "weights = []\n",
    "for block in model.GAN.G.blocks:\n",
    "    weight = block.to_style1.weight.T\n",
    "    weights.append(weight.detach().numpy())\n",
    "weight = np.concatenate(weights, axis=1).astype(np.float32)\n",
    "weight = weight / np.linalg.norm(weight, axis=0, keepdims=True)\n",
    "eigen_values, eigen_vectors = np.linalg.eig(weight.dot(weight.T))\n",
    "features = eigen_vectors\n",
    "scales = np.sqrt(eigen_values)"
   ]
  },
  {
   "cell_type": "code",
   "execution_count": 8,
   "id": "3f7598d7",
   "metadata": {},
   "outputs": [],
   "source": [
    "from torch import from_numpy\n",
    "def shift(styles, feature, scale, factor):\n",
    "    return styles + factor * scale * from_numpy(feature).expand(styles.size())"
   ]
  },
  {
   "cell_type": "code",
   "execution_count": 9,
   "id": "53b641cb",
   "metadata": {},
   "outputs": [],
   "source": [
    "feature_id = 10\n",
    "filenames = []\n",
    "for i in range(10):\n",
    "    new_styles = shift(w_styles, features[feature_id], scales[feature_id], 0.1 * float(i))\n",
    "    name = 'shift' + str(i)\n",
    "    ig.sample_name = name\n",
    "    filenames.append(name + '.jpg')\n",
    "    a = ig.generate_regular(new_styles, gen_noise)"
   ]
  },
  {
   "cell_type": "code",
   "execution_count": 10,
   "id": "189c8cc0",
   "metadata": {},
   "outputs": [],
   "source": [
    "import imageio\n",
    "images = []\n",
    "path = '/home/osboxes/projects/mynn/generators/results/faces/'\n",
    "for filename in filenames:\n",
    "    images.append(imageio.imread(path + filename))\n",
    "imageio.mimsave(path + 'movie.gif', images)"
   ]
  }
 ],
 "metadata": {
  "kernelspec": {
   "display_name": "Python 3 (ipykernel)",
   "language": "python",
   "name": "python3"
  },
  "language_info": {
   "codemirror_mode": {
    "name": "ipython",
    "version": 3
   },
   "file_extension": ".py",
   "mimetype": "text/x-python",
   "name": "python",
   "nbconvert_exporter": "python",
   "pygments_lexer": "ipython3",
   "version": "3.9.5"
  }
 },
 "nbformat": 4,
 "nbformat_minor": 5
}
